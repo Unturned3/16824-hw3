{
 "cells": [
  {
   "cell_type": "code",
   "execution_count": 1,
   "id": "0a3c9bf6",
   "metadata": {},
   "outputs": [],
   "source": [
    "%load_ext autoreload\n",
    "%autoreload 2"
   ]
  },
  {
   "cell_type": "code",
   "execution_count": null,
   "id": "e213731a",
   "metadata": {},
   "outputs": [],
   "source": [
    "import math\n",
    "import torch\n",
    "import torch.nn as nn\n",
    "import torch.nn.functional as F\n",
    "from einops import rearrange"
   ]
  },
  {
   "cell_type": "code",
   "execution_count": null,
   "id": "cb85f482",
   "metadata": {},
   "outputs": [],
   "source": [
    "class Attention(nn.Module):\n",
    "    def forward(self, query, key, value, mask=None):\n",
    "        \"\"\"\n",
    "        mask: 0 = attend, 1 = do not attend.\n",
    "        \"\"\"\n",
    "        dk = query.shape[-1]\n",
    "        scores = query @ key.mT / math.sqrt(dk)\n",
    "        if mask is not None:\n",
    "            scores = scores.masked_fill(mask == 1, -torch.inf)\n",
    "        scores = F.softmax(scores, dim=-1)\n",
    "        return scores @ value\n",
    "\n",
    "\n",
    "class MultiheadAttention(nn.Module):\n",
    "    def __init__(self, dim, n_heads):\n",
    "        super().__init__()\n",
    "        assert dim % n_heads == 0\n",
    "\n",
    "        self.attention = Attention()\n",
    "        self.dim = dim\n",
    "        self.n_heads = n_heads\n",
    "        self.wQ, self.wK, self.wV, self.wO = [\n",
    "            nn.Linear(dim, dim, bias=False) for _ in range(4)\n",
    "        ]\n",
    "\n",
    "    def forward(self, q, k, v, mask=None):\n",
    "        q, k, v = self.wQ(q), self.wK(k), self.wV(v)\n",
    "        q, k, v = [self._split(x) for x in (q, k, v)]\n",
    "\n",
    "        if mask is not None:\n",
    "            mask = mask.repeat(self.n_heads, 1, 1)\n",
    "\n",
    "        y = self.attention(q, k, v, mask)\n",
    "        y = self._combine(y)\n",
    "        y = self.wO(y)\n",
    "        return y\n",
    "\n",
    "    def _split(self, x):\n",
    "        return rearrange(x, 'b t (h dh) -> b h t dh', h=self.n_heads)\n",
    "\n",
    "    def _combine(self, x):\n",
    "        return rearrange(x, 'b h t d -> b t (h d)')\n",
    "\n",
    "    @staticmethod\n",
    "    def gen_causal_mask(x):\n",
    "        \"\"\"Returns a causal mask for the input x\"\"\"\n",
    "        # FIXME: we should follow the pytorch convention of using 1\n",
    "        # for masked and 0 for unmasked. So the code below is broken.\n",
    "        batch, seq_len, _ = x.shape\n",
    "        return torch.tril(torch.ones(1, seq_len, seq_len)).expand(batch, -1, -1)\n"
   ]
  },
  {
   "cell_type": "code",
   "execution_count": null,
   "id": "cfc1b709",
   "metadata": {},
   "outputs": [
    {
     "name": "stdout",
     "output_type": "stream",
     "text": [
      "torch.Size([32, 10, 768])\n"
     ]
    }
   ],
   "source": [
    "mha = MultiheadAttention(dim=768, n_heads=12)\n",
    "x = torch.randn(32, 10, 768)\n",
    "y = mha(x, x, x)\n",
    "print(y.shape)"
   ]
  },
  {
   "cell_type": "code",
   "execution_count": null,
   "id": "880538aa",
   "metadata": {},
   "outputs": [],
   "source": []
  }
 ],
 "metadata": {
  "kernelspec": {
   "display_name": "Python 3",
   "language": "python",
   "name": "python3"
  },
  "language_info": {
   "codemirror_mode": {
    "name": "ipython",
    "version": 3
   },
   "file_extension": ".py",
   "mimetype": "text/x-python",
   "name": "python",
   "nbconvert_exporter": "python",
   "pygments_lexer": "ipython3",
   "version": "3.10.16"
  }
 },
 "nbformat": 4,
 "nbformat_minor": 5
}
